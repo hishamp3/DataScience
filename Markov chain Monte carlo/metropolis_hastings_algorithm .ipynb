{
 "cells": [
  {
   "cell_type": "markdown",
   "id": "3846f762",
   "metadata": {},
   "source": [
    "## Metropolis Hastings Algorithm"
   ]
  },
  {
   "cell_type": "markdown",
   "id": "c7d576c4",
   "metadata": {},
   "source": [
    "Metropolis–Hastings algorithm is a Markov chain Monte Carlo (MCMC) method for obtaining a sequence of random samples from a probability distribution from which direct sampling is difficult. This sequence can be used to approximate the distribution (e.g. to generate a histogram) or to compute an integral (e.g. an expected value). \n",
    "\n",
    "[1]https://en.wikipedia.org/wiki/Metropolis%E2%80%93Hastings_algorithm"
   ]
  },
  {
   "cell_type": "markdown",
   "id": "97974dc5",
   "metadata": {},
   "source": [
    "### Poisson distribution"
   ]
  },
  {
   "cell_type": "markdown",
   "id": "81ade30f",
   "metadata": {},
   "source": [
    "Poisson distribution is a discrete probability distribution that expresses the probability of a given number of events occurring in a fixed interval of time or space if these events occur with a known constant mean rate and independently of the time since the last event.\n",
    "\n",
    "#### Probability Mass Function\n",
    "\n",
    "A discrete random variable X is said to have a Poisson distribution, with parameter lambda >0, if it has a probability mass function given by:\n",
    "\n",
    "P(k;lambda) : Pr(X=k) = lambda ^k * e ^ -lambda / k!\n",
    "where\n",
    "\n",
    "k is the number of occurrences \n",
    "e is Euler's number\n",
    "! is the factorial function."
   ]
  },
  {
   "cell_type": "markdown",
   "id": "9e2aea08",
   "metadata": {},
   "source": [
    "### Problem statement"
   ]
  },
  {
   "cell_type": "markdown",
   "id": "8a3c2314",
   "metadata": {},
   "source": [
    "For the given set of Input numbers , compute expected value of rate (lambda) by Posteriors of possion distribution using Metropolis-hastings algorithm"
   ]
  },
  {
   "cell_type": "code",
   "execution_count": 1,
   "id": "a2fe0eb0",
   "metadata": {},
   "outputs": [],
   "source": [
    "import math\n",
    "import matplotlib.pyplot as plt\n",
    "import numpy as np"
   ]
  },
  {
   "cell_type": "code",
   "execution_count": 2,
   "id": "8c77b6af",
   "metadata": {},
   "outputs": [],
   "source": [
    "#input data\n",
    "data = [0,0,1,2,0,2,2,1,1]\n",
    "accepted = []\n",
    "posteriors = []"
   ]
  },
  {
   "cell_type": "code",
   "execution_count": 3,
   "id": "051f4530",
   "metadata": {},
   "outputs": [],
   "source": [
    "# function to compute Poisson Distribution\n",
    "def Poisson_distribution(event,interval):\n",
    "    numerator = (interval**event)*(math.e**-interval)\n",
    "    denominator = math.factorial(event)\n",
    "    p = numerator/denominator\n",
    "    return p"
   ]
  },
  {
   "cell_type": "markdown",
   "id": "9c110c07",
   "metadata": {},
   "source": [
    "### Posterior probability"
   ]
  },
  {
   "cell_type": "markdown",
   "id": "215395d3",
   "metadata": {},
   "source": [
    "Posterior probability is the probability an event will happen after all evidence or background information has been taken into account. It is closely related to prior probability, which is the probability an event will happen before you taken any new evidence into account"
   ]
  },
  {
   "cell_type": "code",
   "execution_count": 4,
   "id": "f7342a31",
   "metadata": {},
   "outputs": [],
   "source": [
    "# function to compute posterior probability\n",
    "def compute_posterior(lamda,inputs):\n",
    "    p=1\n",
    "    for event in inputs:\n",
    "        f = Poisson_distribution(event,lamda)\n",
    "        p = p*f\n",
    "    posterior = lamda * p\n",
    "    return posterior"
   ]
  },
  {
   "cell_type": "markdown",
   "id": "61e3bdc6",
   "metadata": {},
   "source": [
    "### Metropolis-Hastings Algorithm"
   ]
  },
  {
   "cell_type": "markdown",
   "id": "e53ca3eb",
   "metadata": {},
   "source": [
    "The MH algorithm for sampling from a target distribution π, using transition kernel Q, consists of the following steps:\n",
    "\n",
    "* Initialize, X1=x1 say.\n",
    "* For t=1,2,…\n",
    "\n",
    " * sample y from Q(y|xt). Think of y as a “proposed” value for xt+1.\n",
    " * Compute\n",
    "    A=min(1,π(y)Q(xt|y)π(xt)Q(y|xt)).\n",
    "    A is often called the “acceptance probabilty”.\n",
    " * with probability A “accept” the proposed value, and set xt+1=y. Otherwise set xt+1=xt"
   ]
  },
  {
   "cell_type": "code",
   "execution_count": 5,
   "id": "7ec77ce4",
   "metadata": {},
   "outputs": [],
   "source": [
    "def Metropolis_hastings(old_value,new_value):\n",
    "    ratio = new_value/old_value\n",
    "    if(ratio >= 1):\n",
    "        accepted.append(new_value)\n",
    "        posteriors.append(compute_posterior(new_value,data))\n",
    "        return new_value\n",
    "    elif(ratio <1):\n",
    "        u = np.random.uniform(0,1,1)\n",
    "        if(u<ratio):\n",
    "            accepted.append(new_value)\n",
    "            posteriors.append(compute_posterior(new_value,data))\n",
    "            return new_value\n",
    "        else:\n",
    "            return old_value"
   ]
  },
  {
   "cell_type": "code",
   "execution_count": 6,
   "id": "2225cfb3",
   "metadata": {},
   "outputs": [],
   "source": [
    "# function for scatter plot\n",
    "def graph_plot(x,y):\n",
    "    plt.scatter(x,y,color=\"Red\")\n",
    "    plt.xlabel('Lamda value')\n",
    "    plt.ylabel('Posterior')\n",
    "    plt.show()"
   ]
  },
  {
   "cell_type": "code",
   "execution_count": 7,
   "id": "3bc45178",
   "metadata": {},
   "outputs": [],
   "source": [
    "def main():\n",
    "    # 2000 uniform samples between 0 and 4.      \n",
    "    lamdas = np.random.uniform(0,4,2000)\n",
    "    old_value = lamdas[0]\n",
    "    for i in range(1,len(lamdas)):\n",
    "        new_value = Metropolis_hastings(old_value,lamdas[i])\n",
    "        old_value = new_value\n",
    "\n",
    "    graph_plot(accepted,posteriors)\n"
   ]
  },
  {
   "cell_type": "code",
   "execution_count": 8,
   "id": "4f990dab",
   "metadata": {},
   "outputs": [
    {
     "data": {
      "image/png": "[encoded data removed]",
      "text/plain": [
       "<Figure size 432x288 with 1 Axes>"
      ]
     },
     "metadata": {
      "needs_background": "light"
     },
     "output_type": "display_data"
    }
   ],
   "source": [
    "if __name__ == \"__main__\":\n",
    "    main()"
   ]
  },
  {
   "cell_type": "markdown",
   "id": "2e014831",
   "metadata": {},
   "source": [
    "### Evaluation"
   ]
  },
  {
   "cell_type": "markdown",
   "id": "07c222be",
   "metadata": {},
   "source": [
    "Expected lambda value for the given input numbers is estimated to be between 1 and 1.5."
   ]
  },
  {
   "cell_type": "code",
   "execution_count": null,
   "id": "a6f9b4ee",
   "metadata": {},
   "outputs": [],
   "source": []
  }
 ],
 "metadata": {
  "kernelspec": {
   "display_name": "Python 3 (ipykernel)",
   "language": "python",
   "name": "python3"
  },
  "language_info": {
   "codemirror_mode": {
    "name": "ipython",
    "version": 3
   },
   "file_extension": ".py",
   "mimetype": "text/x-python",
   "name": "python",
   "nbconvert_exporter": "python",
   "pygments_lexer": "ipython3",
   "version": "3.9.7"
  }
 },
 "nbformat": 4,
 "nbformat_minor": 5
}
