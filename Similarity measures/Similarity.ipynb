{
 "cells": [
  {
   "cell_type": "markdown",
   "id": "26955c23",
   "metadata": {},
   "source": [
    "### Similarity"
   ]
  },
  {
   "cell_type": "markdown",
   "id": "1c4f3600",
   "metadata": {},
   "source": [
    "In statistics and related fields, a similarity measure or similarity function or similarity metric is a real-valued function that quantifies the similarity between two objects. Although no single definition of a similarity exists. Usually such measures are in some sense the inverse of distance metrics: they take on large values for similar objects and either zero or a negative value for very dissimilar objects. Though, in more broad terms, a similarity function may also satisfy metric axioms.\n",
    "\n",
    "https://en.wikipedia.org/wiki/Similarity_measure"
   ]
  },
  {
   "cell_type": "markdown",
   "id": "11722fda",
   "metadata": {},
   "source": [
    "### Problem Statement"
   ]
  },
  {
   "cell_type": "markdown",
   "id": "038460e5",
   "metadata": {},
   "source": [
    "Implement Various similarity measures to check similarity between the text files.\n",
    "The similarity measures implemented are :\n",
    "   * jaccard index - set-based metric\n",
    "   * euclidean similarity - distance based metric\n",
    "   * cosine similarity - angular based metric"
   ]
  },
  {
   "cell_type": "code",
   "execution_count": 1,
   "id": "bbe884c2",
   "metadata": {},
   "outputs": [],
   "source": [
    "from nltk.tokenize import wordpunct_tokenize\n",
    "import pandas as pd\n",
    "import math"
   ]
  },
  {
   "cell_type": "code",
   "execution_count": 2,
   "id": "28740e86",
   "metadata": {},
   "outputs": [],
   "source": [
    "# Generating tokens using nltk library\n",
    "def get_tokens(content):\n",
    "    content = content.lower()\n",
    "    Otokens = wordpunct_tokenize(content)\n",
    "    Rtokens=[]\n",
    "    for token in Otokens:\n",
    "        # alphabetic tokens with length more than 1\n",
    "        if(token.isalpha() and len(token)>1):\n",
    "            Rtokens.append(token)\n",
    "    return Rtokens"
   ]
  },
  {
   "attachments": {
    "image.png": {
     "image/png": "[encoded data removed]"
    }
   },
   "cell_type": "markdown",
   "id": "467ca385",
   "metadata": {},
   "source": [
    "#### Jaccard index\n",
    "The Jaccard index, also known as the Jaccard similarity coefficient, is a statistic used for gauging the similarity and diversity of sample sets.\n",
    "\n",
    "![image.png](attachment:image.png)"
   ]
  },
  {
   "cell_type": "code",
   "execution_count": 3,
   "id": "4ee0503e",
   "metadata": {},
   "outputs": [],
   "source": [
    "def Jaccard_score(set_a,set_b):\n",
    "    return len(set_a & set_b)/len(set_a | set_b)"
   ]
  },
  {
   "cell_type": "markdown",
   "id": "4f17fe97",
   "metadata": {},
   "source": [
    "#### Euclidean distance\n",
    "\n",
    "The basis of many measures of similarity and dissimilarity is euclidean distance. The distance between vectors X and Y is defined as follows:\n",
    "* d = √[(x2 – x1)2 + (y2 – y1)2].\n",
    "* In other words, euclidean distance is the square root of the sum of squared differences between corresponding elements of the two vectors"
   ]
  },
  {
   "cell_type": "code",
   "execution_count": 4,
   "id": "f1e32c2a",
   "metadata": {},
   "outputs": [],
   "source": [
    "def Euclidean_distance(vector1,vector2):\n",
    "    result_vector = [pow(vector1 - vector2,2) for vector1, vector2 in zip(vector1, vector2)]\n",
    "    return math.sqrt(sum(result_vector))"
   ]
  },
  {
   "cell_type": "markdown",
   "id": "01161c16",
   "metadata": {},
   "source": [
    "#### Cosine similarity\n",
    "cosine similarity is a measure of similarity between two sequences of numbers. For defining it, the sequences are viewed as vectors in an inner product space, and the cosine similarity is defined as the cosine of the angle between them, that is, the dot product of the vectors divided by the product of their lengths. It follows that the cosine similarity does not depend on the magnitudes of the vectors, but only on their angle\n"
   ]
  },
  {
   "cell_type": "code",
   "execution_count": 5,
   "id": "b035082b",
   "metadata": {},
   "outputs": [],
   "source": [
    "def Cosine_similarity(vector1,vector2):\n",
    "    result_vector = [vector1 * vector2 for vector1, vector2 in zip(vector1, vector2)]\n",
    "    mod_1 = [vector1 * vector1 for vector1, vector1 in zip(vector1, vector1)]\n",
    "    mod_2 = [vector2 * vector2 for vector2, vector2 in zip(vector2, vector2)]\n",
    "    cos_angle = sum(result_vector)/(math.sqrt(sum(mod_1)) * math.sqrt(sum(mod_2)))\n",
    "    return cos_angle"
   ]
  },
  {
   "cell_type": "code",
   "execution_count": 6,
   "id": "25c260de",
   "metadata": {},
   "outputs": [],
   "source": [
    "# calculate vectors\n",
    "def Calculate_vectors(set_a,set_b,tokens_a,tokens_b):\n",
    "    vector_a=[]\n",
    "    vector_b=[]\n",
    "    common_tokens = set_a | set_b\n",
    "    comm_lst = list(common_tokens)\n",
    "    lst_a = list(tokens_a)\n",
    "    lst_b = list(tokens_b)\n",
    "    for token in common_tokens:\n",
    "        vector_a.append(lst_a.count(token))\n",
    "        vector_b.append(lst_b.count(token))\n",
    "    return vector_a,vector_b"
   ]
  },
  {
   "cell_type": "code",
   "execution_count": 7,
   "id": "65bd4311",
   "metadata": {},
   "outputs": [],
   "source": [
    "# read a file\n",
    "def file_read(filename):\n",
    "    with open(filename,'r',encoding='utf-8') as f:\n",
    "        content = f.read()\n",
    "        f.close()\n",
    "    tokens = get_tokens(content)\n",
    "    return tokens"
   ]
  },
  {
   "cell_type": "code",
   "execution_count": 8,
   "id": "dd93d5dd",
   "metadata": {},
   "outputs": [],
   "source": [
    "def Print_result(file1,set1,file2,set2):\n",
    "    print(\"similarity measures for : \",file1 ,\" and \",file2)\n",
    "    \n",
    "    # jaccard score\n",
    "    jaccard_score = Jaccard_score(set1,set2)\n",
    "    print(\"Jaccard score :\",jaccard_score)\n",
    "    \n",
    "    vector_0,vector_1=Calculate_vectors(set1,set2,file_read(file1),file_read(file2))\n",
    "    \n",
    "    # Euclidean distance\n",
    "    Edistance_similarity = Euclidean_distance(vector_0,vector_1)\n",
    "    print(\"Euclidean distance :\",Edistance_similarity)\n",
    "    \n",
    "    # cosine similariy\n",
    "    Cos_similar = Cosine_similarity(vector_0,vector_1)\n",
    "    print(\"Cosine similarity :\",Cos_similar,\"\\n\")"
   ]
  },
  {
   "cell_type": "code",
   "execution_count": 9,
   "id": "2c88a4f4",
   "metadata": {},
   "outputs": [],
   "source": [
    "def main():\n",
    "    # reading text files\n",
    "    text_0_set = set(file_read('./Text_0.txt'))\n",
    "    text_1_set = set(file_read('./Text_1.txt'))\n",
    "    text_2_set = set(file_read('./Text_2.txt'))\n",
    "    \n",
    "    Print_result('./Text_0.txt',text_0_set,'./Text_2.txt',text_2_set)"
   ]
  },
  {
   "cell_type": "code",
   "execution_count": 10,
   "id": "36fbaa4a",
   "metadata": {},
   "outputs": [
    {
     "name": "stdout",
     "output_type": "stream",
     "text": [
      "similarity measures for :  ./Text_0.txt  and  ./Text_2.txt\n",
      "Jaccard score : 0.11969111969111969\n",
      "Euclidean distance : 43.02324952859791\n",
      "Cosine similarity : 0.4039533839320047 \n",
      "\n"
     ]
    }
   ],
   "source": [
    "if __name__ == \"__main__\":\n",
    "    main()"
   ]
  }
 ],
 "metadata": {
  "kernelspec": {
   "display_name": "Python 3 (ipykernel)",
   "language": "python",
   "name": "python3"
  },
  "language_info": {
   "codemirror_mode": {
    "name": "ipython",
    "version": 3
   },
   "file_extension": ".py",
   "mimetype": "text/x-python",
   "name": "python",
   "nbconvert_exporter": "python",
   "pygments_lexer": "ipython3",
   "version": "3.9.7"
  }
 },
 "nbformat": 4,
 "nbformat_minor": 5
}
